{
  "nbformat": 4,
  "nbformat_minor": 0,
  "metadata": {
    "colab": {
      "name": "ODSC_Workshop_ML_Models_To_Production.ipynb",
      "provenance": [],
      "collapsed_sections": [],
      "toc_visible": true
    },
    "kernelspec": {
      "name": "python3",
      "display_name": "Python 3"
    },
    "language_info": {
      "name": "python"
    }
  },
  "cells": [
    {
      "cell_type": "markdown",
      "metadata": {
        "id": "DufeYiOUuLYr"
      },
      "source": [
        "# **MLOps.. From Model to Production**\n",
        "\n",
        "## Track models performance.. WHY?\n",
        "\n",
        "> ### Changes in data that impact model performance\n",
        ">> Data source changed: data types, format, schema etc.\n",
        ">> Data drifts caused by changes in behaviour e.g., spammers rate sending emails per minute\n",
        "> ### Model performance changes over time\n",
        ">> Drifts in the target variable\n",
        "\n"
      ]
    },
    {
      "cell_type": "markdown",
      "metadata": {
        "id": "1KR5ieGbtiYR"
      },
      "source": [
        "<img src=\"https://drive.google.com/uc?export=view&id=1zwSOMIcSUoT9j9CkpB0tJvNo8aYJoWKo\">"
      ]
    },
    {
      "cell_type": "markdown",
      "metadata": {
        "id": "YoXe7FhHMwRL"
      },
      "source": [
        "## In this tutorial we will explore dashboards to monitor\n",
        "\n",
        "*   Model Performance\n",
        "*   Target Drift\n",
        "*   Data Drift\n",
        "\n",
        "---\n",
        "## Objectives for today session\n",
        "1. Understand the benefits of monitorning your machine learning model\n",
        "2. What can be monitored\n",
        "3. From theory to practice"
      ]
    },
    {
      "cell_type": "markdown",
      "metadata": {
        "id": "uM4PdW2GvBn_"
      },
      "source": [
        "# Machine Learning (ML) Lifecyle\n",
        "\n",
        "<img src=\"https://drive.google.com/uc?export=view&id=1daEp_7S7UD3tdaBxWDoerjsVCwawV3qx\">\n",
        "\n",
        "---\n",
        "<img src=\"https://drive.google.com/uc?export=view&id=1xvOHmPctwxiz5fELKITnKPgVCPUNH8cI\">"
      ]
    },
    {
      "cell_type": "markdown",
      "metadata": {
        "id": "88FYXX_Sv_IS"
      },
      "source": [
        "# Monitor your models 💪😼\n",
        "\n",
        "> ## In general, ML models do not provide 100% correct results \n",
        ">> Model validation should be of statistical nature instead of traditional software development binary pass/fail test\n",
        ">\n",
        "> How we decide if the model is good enough for deployment?\n",
        ">> - based on the model nature e.g., ensemble models track adjustments to parameters and/or hyperparameters \n",
        ">> - decide on thresholds for acceptable values e.g., compare with performance from previous model runs\n",
        ">> - sometimes performance cannot be seen as a ”whole” therefore slices of test data are taken to validate model performance for specific relevant features e.g., gender and/or country\n",
        "\n",
        "<img src=\"https://drive.google.com/uc?export=view&id=1O9cYp7OnqUOTJcLW4BVMvPtVnRmOuB3s\">"
      ]
    },
    {
      "cell_type": "markdown",
      "metadata": {
        "id": "8B8XuzWBulbx"
      },
      "source": [
        "## This hands-on tutorial uses the open source library Evidently\n",
        "\n",
        "> Evidently helps evaluate machine learning models during validation and monitor them in production. The tool generates interactive visual reports and JSON profiles from pandas DataFrame or csv files.\n",
        ">> Licensed under the Apache License, Version 2.0 (the \"License\")\n",
        ">>\n",
        ">> See more at: https://github.com/evidentlyai/\n",
        ">>\n",
        ">> Documentation https://docs.evidentlyai.com/quick-start\n",
        "\n",
        "## Many other tools are available.\n",
        "> See some examples in the list below\n",
        ">> *   neptune.ai https://ui.neptune.ai/ \n",
        ">> *   fiddler https://www.fiddler.ai/ml-monitoring\n",
        ">> *   amazon sagemaker https://aws.amazon.com/sagemaker/model-monitor/"
      ]
    },
    {
      "cell_type": "markdown",
      "metadata": {
        "id": "YXXId8qIDL8L"
      },
      "source": [
        "# Install evidently\n",
        "1. pip install evidently\n",
        "\n",
        "For Jupyter Notebook\n",
        "1. jupyter nbextension install --sys-prefix --symlink --overwrite --py evidently\n",
        "2. jupyter nbextension enable evidently --py --sys-prefix"
      ]
    },
    {
      "cell_type": "code",
      "metadata": {
        "colab": {
          "base_uri": "https://localhost:8080/"
        },
        "id": "4h9Ra5LlGHo1",
        "outputId": "626c3c7a-3409-4282-b72c-95e0c43add89"
      },
      "source": [
        "pip install evidently"
      ],
      "execution_count": 1,
      "outputs": [
        {
          "output_type": "stream",
          "name": "stdout",
          "text": [
            "Requirement already satisfied: evidently in /usr/local/lib/python3.7/dist-packages (0.1.30.dev0)\n",
            "Requirement already satisfied: dataclasses in /usr/local/lib/python3.7/dist-packages (from evidently) (0.6)\n",
            "Requirement already satisfied: scikit-learn>=0.22.1 in /usr/local/lib/python3.7/dist-packages (from evidently) (1.0.1)\n",
            "Requirement already satisfied: scipy<=1.6.3 in /usr/local/lib/python3.7/dist-packages (from evidently) (1.4.1)\n",
            "Requirement already satisfied: numpy in /usr/local/lib/python3.7/dist-packages (from evidently) (1.19.5)\n",
            "Requirement already satisfied: requests in /usr/local/lib/python3.7/dist-packages (from evidently) (2.23.0)\n",
            "Requirement already satisfied: plotly in /usr/local/lib/python3.7/dist-packages (from evidently) (4.4.1)\n",
            "Requirement already satisfied: pyyaml in /usr/local/lib/python3.7/dist-packages (from evidently) (3.13)\n",
            "Requirement already satisfied: pandas in /usr/local/lib/python3.7/dist-packages (from evidently) (1.1.5)\n",
            "Requirement already satisfied: statsmodels in /usr/local/lib/python3.7/dist-packages (from evidently) (0.10.2)\n",
            "Requirement already satisfied: joblib>=0.11 in /usr/local/lib/python3.7/dist-packages (from scikit-learn>=0.22.1->evidently) (1.1.0)\n",
            "Requirement already satisfied: threadpoolctl>=2.0.0 in /usr/local/lib/python3.7/dist-packages (from scikit-learn>=0.22.1->evidently) (3.0.0)\n",
            "Requirement already satisfied: python-dateutil>=2.7.3 in /usr/local/lib/python3.7/dist-packages (from pandas->evidently) (2.8.2)\n",
            "Requirement already satisfied: pytz>=2017.2 in /usr/local/lib/python3.7/dist-packages (from pandas->evidently) (2018.9)\n",
            "Requirement already satisfied: six>=1.5 in /usr/local/lib/python3.7/dist-packages (from python-dateutil>=2.7.3->pandas->evidently) (1.15.0)\n",
            "Requirement already satisfied: retrying>=1.3.3 in /usr/local/lib/python3.7/dist-packages (from plotly->evidently) (1.3.3)\n",
            "Requirement already satisfied: idna<3,>=2.5 in /usr/local/lib/python3.7/dist-packages (from requests->evidently) (2.10)\n",
            "Requirement already satisfied: chardet<4,>=3.0.2 in /usr/local/lib/python3.7/dist-packages (from requests->evidently) (3.0.4)\n",
            "Requirement already satisfied: certifi>=2017.4.17 in /usr/local/lib/python3.7/dist-packages (from requests->evidently) (2021.10.8)\n",
            "Requirement already satisfied: urllib3!=1.25.0,!=1.25.1,<1.26,>=1.21.1 in /usr/local/lib/python3.7/dist-packages (from requests->evidently) (1.24.3)\n",
            "Requirement already satisfied: patsy>=0.4.0 in /usr/local/lib/python3.7/dist-packages (from statsmodels->evidently) (0.5.2)\n"
          ]
        }
      ]
    },
    {
      "cell_type": "markdown",
      "metadata": {
        "id": "wY58mLTUnWPu"
      },
      "source": [
        "# Evidently dashboards"
      ]
    },
    {
      "cell_type": "markdown",
      "metadata": {
        "id": "Z6r9p1cd9nx4"
      },
      "source": [
        "## Requirements\n",
        "**In general for all dashboards**\n",
        "> * You need to have input features, and target and/or prediction columns available.\n",
        "> * You will need two datasets. The reference dataset serves as a benchmark. We analyze the change by comparing the current production data to the reference data\n",
        "> * You can potentially choose any two datasets for comparison. But keep in mind that only the reference dataset will be used as a basis for comparison\n"
      ]
    },
    {
      "cell_type": "markdown",
      "metadata": {
        "id": "qljRiM-l9b_S"
      },
      "source": [
        "## **1. Data Drift**\n",
        "* The report detects changes in feature distributions. \n",
        "* Performs a suitable statistical test for numerical and categorical features\n",
        "* Plots feature values and distributions for the two datasets\n",
        "\n",
        "**Requirements**\n",
        "> * You will need two datasets. The reference dataset serves as a benchmark. We analyze the change by comparing the current production data to the reference data\n",
        "> * The dataset should include the features you want to evaluate for drift. The structure (column names) of both datasets should be identical\n",
        "> * The DateTime column is the only exception. If available, it can be used as the x-axis in the plots\n",
        "> * All feature columns analyzed for drift should have the numerical type (np.number)\n",
        "> * Categorical data can be encoded as numerical labels and specified in the column_mapping\n",
        "\n",
        "More https://docs.evidentlyai.com/reports/data-drift"
      ]
    },
    {
      "cell_type": "markdown",
      "metadata": {
        "id": "idYFeKIf9cJe"
      },
      "source": [
        "## **2. Regression Performance**\n",
        "* The report analyzes the performance of a regression model\n",
        "* Works for a single model or helps compare the two\n",
        "* Displays a variety of plots related to the performance and errors\n",
        "* Helps explore areas of under- and overestimation\n",
        "\n",
        "More https://docs.evidentlyai.com/reports/reg-performance\n",
        "\n",
        "<img src=\"https://drive.google.com/uc?export=view&id=1uhV4KW6oXfHsGQXAmBLjFDC_MSjQa3Ck\">"
      ]
    },
    {
      "cell_type": "markdown",
      "metadata": {
        "id": "aVn3fQKU9cSz"
      },
      "source": [
        "## **3. Categorical Drift**\n",
        "* The report explores the changes in the categorical target function (prediction)\n",
        "* Performs a suitable statistical test to compare target (prediction) distribution\n",
        "* Plots the relations between each individual feature and the target (prediction)\n",
        "\n",
        "More https://docs.evidentlyai.com/reports/categorical-target-drift"
      ]
    },
    {
      "cell_type": "markdown",
      "metadata": {
        "id": "Bu2H59QT9j90"
      },
      "source": [
        "## **4. Numerical Target Drift**\n",
        "* The report explores the changes in the numerical target function (prediction).  \n",
        "* Performs a suitable statistical test to compare target (prediction) distribution\n",
        "* Calculates the correlations between the feature and the target (prediction)\n",
        "* Plots the relations between each individual feature and the target (prediction)\n",
        "\n",
        "More https://docs.evidentlyai.com/reports/num-target-drift"
      ]
    },
    {
      "cell_type": "markdown",
      "metadata": {
        "id": "BCFT3R6s9kc5"
      },
      "source": [
        "## **5. Classification Performance**\n",
        "* The report analyzes the performance of a classification model\n",
        "* Works for a single model or helps compare the two\n",
        "* Works for binary and multi-class classification \n",
        "* Displays a variety of plots related to the model performance \n",
        "* Helps explore regions where the model makes different types of errors\n",
        "\n",
        "**Requirements**\n",
        "> * You need to have input features, and both target and prediction columns available\n",
        "> * You can use both numerical labels like \"0\", \"1\", \"2\" or class names like \"virginica\", \"setoza\", \"versicolor\" inside the target and prediction columns. The labels should be the same for the target and predictions\n",
        "> * Column order in Binary Classification. For binary classification, class order matters. The tool expects that the target (so-called positive) class is the first in the column_mapping['prediction'] list\n",
        "\n",
        "\n",
        "More https://docs.evidentlyai.com/reports/classification-performance\n",
        "\n",
        "<img src=\"https://drive.google.com/uc?export=view&id=1n-ShAEy-nJOoYdqKKlYxK0revno2Kpz_\">\n",
        "\n"
      ]
    },
    {
      "cell_type": "markdown",
      "metadata": {
        "id": "9GVOgzpAD7at"
      },
      "source": [
        "## **6. Probabilistic Classification Performance**\n",
        "* The report analyzes the performance of a probabilistic classification model\n",
        "* Works for a single model or helps compare the two\n",
        "* Works for binary and multi-class classification\n",
        "* Displays a variety of plots related to the model performance\n",
        "* Helps explore regions where the model makes different types of errors\n",
        "\n",
        "More https://docs.evidentlyai.com/reports/probabilistic-classification-performance"
      ]
    },
    {
      "cell_type": "markdown",
      "metadata": {
        "id": "qBVaPmdZEwXV"
      },
      "source": [
        "# Import required libraries"
      ]
    },
    {
      "cell_type": "code",
      "metadata": {
        "id": "ewqarATEEtZk"
      },
      "source": [
        "import pandas as pd\n",
        "import numpy as np\n",
        "\n",
        "from sklearn import ensemble\n",
        "from sklearn.ensemble import RandomForestRegressor\n",
        "\n",
        "from evidently.dashboard import Dashboard\n",
        "from evidently.tabs import DataDriftTab, NumTargetDriftTab, RegressionPerformanceTab\n",
        "\n",
        "from evidently.model_profile import Profile\n",
        "from evidently.profile_sections import RegressionPerformanceProfileSection"
      ],
      "execution_count": 2,
      "outputs": []
    },
    {
      "cell_type": "markdown",
      "metadata": {
        "id": "IzDKQXP7L4Pv"
      },
      "source": [
        "# Regression Performance Dashboard\n",
        "\n",
        "### Dataset - Bike Sharing Dataset\n",
        "\n",
        "More information about the dataset can be found in UCI machine learning repository: \n",
        "\n",
        "https://archive.ics.uci.edu/ml/datasets/bike+sharing+dataset\n",
        "\n",
        "Acknowledgement: Fanaee-T, Hadi, and Gama, Joao, 'Event labeling combining ensemble detectors and background knowledge', Progress in Artificial Intelligence (2013): pp. 1-15, Springer Berlin Heidelberg\n"
      ]
    },
    {
      "cell_type": "code",
      "metadata": {
        "id": "T0OdwYr3L2D2"
      },
      "source": [
        "# Load dataset\n",
        "raw_data = pd.read_csv(\n",
        "    'Bike-Sharing-Dataset/day.csv',\n",
        "    header = 0,\n",
        "    sep = ',',\n",
        "    parse_dates=['dteday']\n",
        "    )"
      ],
      "execution_count": 3,
      "outputs": []
    },
    {
      "cell_type": "code",
      "metadata": {
        "id": "Rk4KzvduL2Jy"
      },
      "source": [
        "# Take Reference dataset and Production Dataset\n",
        "ref_data = raw_data[:120]\n",
        "prod_data = raw_data[120:150]"
      ],
      "execution_count": 4,
      "outputs": []
    },
    {
      "cell_type": "code",
      "metadata": {
        "colab": {
          "base_uri": "https://localhost:8080/",
          "height": 206
        },
        "id": "Ke14zLFxL2S1",
        "outputId": "5a1d5ac0-0598-4ff0-d335-dfd2c024242d"
      },
      "source": [
        "ref_data.head()"
      ],
      "execution_count": 5,
      "outputs": [
        {
          "output_type": "execute_result",
          "data": {
            "text/html": [
              "<div>\n",
              "<style scoped>\n",
              "    .dataframe tbody tr th:only-of-type {\n",
              "        vertical-align: middle;\n",
              "    }\n",
              "\n",
              "    .dataframe tbody tr th {\n",
              "        vertical-align: top;\n",
              "    }\n",
              "\n",
              "    .dataframe thead th {\n",
              "        text-align: right;\n",
              "    }\n",
              "</style>\n",
              "<table border=\"1\" class=\"dataframe\">\n",
              "  <thead>\n",
              "    <tr style=\"text-align: right;\">\n",
              "      <th></th>\n",
              "      <th>instant</th>\n",
              "      <th>dteday</th>\n",
              "      <th>season</th>\n",
              "      <th>yr</th>\n",
              "      <th>mnth</th>\n",
              "      <th>holiday</th>\n",
              "      <th>weekday</th>\n",
              "      <th>workingday</th>\n",
              "      <th>weathersit</th>\n",
              "      <th>temp</th>\n",
              "      <th>atemp</th>\n",
              "      <th>hum</th>\n",
              "      <th>windspeed</th>\n",
              "      <th>casual</th>\n",
              "      <th>registered</th>\n",
              "      <th>cnt</th>\n",
              "    </tr>\n",
              "  </thead>\n",
              "  <tbody>\n",
              "    <tr>\n",
              "      <th>0</th>\n",
              "      <td>1</td>\n",
              "      <td>2011-01-01</td>\n",
              "      <td>1</td>\n",
              "      <td>0</td>\n",
              "      <td>1</td>\n",
              "      <td>0</td>\n",
              "      <td>6</td>\n",
              "      <td>0</td>\n",
              "      <td>2</td>\n",
              "      <td>0.344167</td>\n",
              "      <td>0.363625</td>\n",
              "      <td>0.805833</td>\n",
              "      <td>0.160446</td>\n",
              "      <td>331</td>\n",
              "      <td>654</td>\n",
              "      <td>985</td>\n",
              "    </tr>\n",
              "    <tr>\n",
              "      <th>1</th>\n",
              "      <td>2</td>\n",
              "      <td>2011-01-02</td>\n",
              "      <td>1</td>\n",
              "      <td>0</td>\n",
              "      <td>1</td>\n",
              "      <td>0</td>\n",
              "      <td>0</td>\n",
              "      <td>0</td>\n",
              "      <td>2</td>\n",
              "      <td>0.363478</td>\n",
              "      <td>0.353739</td>\n",
              "      <td>0.696087</td>\n",
              "      <td>0.248539</td>\n",
              "      <td>131</td>\n",
              "      <td>670</td>\n",
              "      <td>801</td>\n",
              "    </tr>\n",
              "    <tr>\n",
              "      <th>2</th>\n",
              "      <td>3</td>\n",
              "      <td>2011-01-03</td>\n",
              "      <td>1</td>\n",
              "      <td>0</td>\n",
              "      <td>1</td>\n",
              "      <td>0</td>\n",
              "      <td>1</td>\n",
              "      <td>1</td>\n",
              "      <td>1</td>\n",
              "      <td>0.196364</td>\n",
              "      <td>0.189405</td>\n",
              "      <td>0.437273</td>\n",
              "      <td>0.248309</td>\n",
              "      <td>120</td>\n",
              "      <td>1229</td>\n",
              "      <td>1349</td>\n",
              "    </tr>\n",
              "    <tr>\n",
              "      <th>3</th>\n",
              "      <td>4</td>\n",
              "      <td>2011-01-04</td>\n",
              "      <td>1</td>\n",
              "      <td>0</td>\n",
              "      <td>1</td>\n",
              "      <td>0</td>\n",
              "      <td>2</td>\n",
              "      <td>1</td>\n",
              "      <td>1</td>\n",
              "      <td>0.200000</td>\n",
              "      <td>0.212122</td>\n",
              "      <td>0.590435</td>\n",
              "      <td>0.160296</td>\n",
              "      <td>108</td>\n",
              "      <td>1454</td>\n",
              "      <td>1562</td>\n",
              "    </tr>\n",
              "    <tr>\n",
              "      <th>4</th>\n",
              "      <td>5</td>\n",
              "      <td>2011-01-05</td>\n",
              "      <td>1</td>\n",
              "      <td>0</td>\n",
              "      <td>1</td>\n",
              "      <td>0</td>\n",
              "      <td>3</td>\n",
              "      <td>1</td>\n",
              "      <td>1</td>\n",
              "      <td>0.226957</td>\n",
              "      <td>0.229270</td>\n",
              "      <td>0.436957</td>\n",
              "      <td>0.186900</td>\n",
              "      <td>82</td>\n",
              "      <td>1518</td>\n",
              "      <td>1600</td>\n",
              "    </tr>\n",
              "  </tbody>\n",
              "</table>\n",
              "</div>"
            ],
            "text/plain": [
              "   instant     dteday  season  yr  ...  windspeed  casual  registered   cnt\n",
              "0        1 2011-01-01       1   0  ...   0.160446     331         654   985\n",
              "1        2 2011-01-02       1   0  ...   0.248539     131         670   801\n",
              "2        3 2011-01-03       1   0  ...   0.248309     120        1229  1349\n",
              "3        4 2011-01-04       1   0  ...   0.160296     108        1454  1562\n",
              "4        5 2011-01-05       1   0  ...   0.186900      82        1518  1600\n",
              "\n",
              "[5 rows x 16 columns]"
            ]
          },
          "metadata": {},
          "execution_count": 5
        }
      ]
    },
    {
      "cell_type": "markdown",
      "metadata": {
        "id": "CImGGjLPM8Pc"
      },
      "source": [
        "# Regression Model"
      ]
    },
    {
      "cell_type": "code",
      "metadata": {
        "id": "LgiErz0dM9yp"
      },
      "source": [
        "# Required variables to train Random Forest Model\n",
        "target = 'cnt'\n",
        "\n",
        "# \"Spliting\" the features in two lists is helpful for the Dashboard\n",
        "# For the Random Forest Model this is not relevant\n",
        "numerical_features = ['mnth', 'temp', 'atemp', 'hum', 'windspeed']\n",
        "categorical_features = ['season', 'holiday', 'weekday', 'workingday', 'weathersit',]\n",
        "\n",
        "# Features to be used by the random forest model\n",
        "features = numerical_features + categorical_features"
      ],
      "execution_count": 6,
      "outputs": []
    },
    {
      "cell_type": "code",
      "metadata": {
        "colab": {
          "base_uri": "https://localhost:8080/"
        },
        "id": "yqTe42JfM99L",
        "outputId": "31917dc5-820e-49d8-d921-cffa6d1dff3f"
      },
      "source": [
        "# Build and train the Random Forest Model\n",
        "# Use the reference data\n",
        "model = RandomForestRegressor(random_state = 0)\n",
        "\n",
        "model.fit(\n",
        "    ref_data[features],\n",
        "    ref_data[target]\n",
        "    )"
      ],
      "execution_count": 7,
      "outputs": [
        {
          "output_type": "execute_result",
          "data": {
            "text/plain": [
              "RandomForestRegressor(random_state=0)"
            ]
          },
          "metadata": {},
          "execution_count": 7
        }
      ]
    },
    {
      "cell_type": "code",
      "metadata": {
        "id": "3MQUmEAiM-BH"
      },
      "source": [
        "# Predict for reference and production data\n",
        "ref_data['prediction']  = model.predict(ref_data[features])\n",
        "prod_data['prediction'] = model.predict(prod_data[features])"
      ],
      "execution_count": 8,
      "outputs": []
    },
    {
      "cell_type": "markdown",
      "metadata": {
        "id": "j6Fdho7YNVMD"
      },
      "source": [
        "# Regression Perfomance Report\n",
        "\n",
        "The **keys** from the dict variable (column_mapping) are used to configure the information required for the dashboard\n",
        "\n",
        "- **target** - what is the model target variable name\n",
        "- **prediction** - informs about the tast e.g., is a predictive task\n",
        "- **datetime** - informs the variable that gives an \"ordering\"/when (if exists)\n",
        "- **numerical_features** - columns names used to predict that are numeric\n",
        "- **categorical_features** - columns names used to predict that are categoric\n"
      ]
    },
    {
      "cell_type": "code",
      "metadata": {
        "id": "xk5SMMf6NE8V"
      },
      "source": [
        "column_mapping = {}\n",
        "\n",
        "column_mapping['target'] = target\n",
        "column_mapping['prediction'] = 'prediction'\n",
        "\n",
        "# If available, it can be used as the x-axis in the dashboard plots\n",
        "column_mapping['datetime'] = 'dteday'\n",
        "\n",
        "# Inform the Dashboard which are \n",
        "# the numerical and categorical features used in the model\n",
        "column_mapping['numerical_features'] = numerical_features\n",
        "column_mapping['categorical_features'] = categorical_features"
      ],
      "execution_count": 9,
      "outputs": []
    },
    {
      "cell_type": "markdown",
      "metadata": {
        "id": "_H8hHyjROgKH"
      },
      "source": [
        "The below is used to inform we want to build Regression Performance Dashboard\n",
        "> from evidently.tabs import RegressionPerformanceTab\n",
        "\n",
        "Provide the requirements\n",
        "1. Reference and Production data (ref_data & prod_data)\n",
        "2. Provide the target, numerical and categorical features (column_mapping)\n",
        "3. Optional, however relevant for this dataset, the date of the event for the x-axis plots (column_mapping)"
      ]
    },
    {
      "cell_type": "code",
      "metadata": {
        "id": "93pVCoN9NIBP"
      },
      "source": [
        "dashboard = Dashboard(tabs=[RegressionPerformanceTab])"
      ],
      "execution_count": 10,
      "outputs": []
    },
    {
      "cell_type": "code",
      "metadata": {
        "id": "Fqy2BdwUNIHm"
      },
      "source": [
        "dashboard.calculate(\n",
        "    ref_data,\n",
        "    prod_data,\n",
        "    column_mapping=column_mapping\n",
        "    )"
      ],
      "execution_count": 11,
      "outputs": []
    },
    {
      "cell_type": "markdown",
      "metadata": {
        "id": "lH_WZrIpX4tV"
      },
      "source": [
        "Dashboard presents performance of the model as a whole but also for its \"tails\"\n",
        "\n",
        "- OVER (top-5% of predictions with overestimation)\n",
        "- UNDER (top-5% of the predictions with underestimation)\n",
        "- MAJORITY (the rest 90%)\n",
        "\n",
        "For each feature\n",
        "* For the numerical features, it shows the mean value per group\n",
        "* For the categorical features, it shows the most common value"
      ]
    },
    {
      "cell_type": "code",
      "metadata": {
        "id": "JvlIOPulNLjZ"
      },
      "source": [
        "# See the dashboard in the notebook\n",
        "#dashboard.show()"
      ],
      "execution_count": 12,
      "outputs": []
    },
    {
      "cell_type": "code",
      "metadata": {
        "id": "9krXAiJ6NLmA"
      },
      "source": [
        "# Save the dashboard as an HTML file\n",
        "dashboard.save('reports/bike_sharing_demand_model_perfomance.html')"
      ],
      "execution_count": 13,
      "outputs": []
    },
    {
      "cell_type": "markdown",
      "metadata": {
        "id": "WoNMznhRN0TM"
      },
      "source": [
        "# Data drift dashboard in jupyter notebook\n",
        "\n",
        "Data from https://www.kaggle.com/c/bike-sharing-demand/data"
      ]
    },
    {
      "cell_type": "markdown",
      "metadata": {
        "id": "KNwRPU6FPqhK"
      },
      "source": [
        "## Bicycle Demand Data"
      ]
    },
    {
      "cell_type": "code",
      "metadata": {
        "id": "DwBUFcEbNvcP"
      },
      "source": [
        "raw_data = pd.read_csv(\n",
        "    'bike-sharing-demand/train.csv',\n",
        "    header=0,\n",
        "    sep=',',\n",
        "    parse_dates=['datetime'],\n",
        "    index_col='datetime'\n",
        "    )"
      ],
      "execution_count": 14,
      "outputs": []
    },
    {
      "cell_type": "code",
      "metadata": {
        "colab": {
          "base_uri": "https://localhost:8080/",
          "height": 238
        },
        "id": "5PA5BZ6mN3Fk",
        "outputId": "9818cc88-9bba-47d7-9a54-5b8ce61f511d"
      },
      "source": [
        "raw_data.head()"
      ],
      "execution_count": 15,
      "outputs": [
        {
          "output_type": "execute_result",
          "data": {
            "text/html": [
              "<div>\n",
              "<style scoped>\n",
              "    .dataframe tbody tr th:only-of-type {\n",
              "        vertical-align: middle;\n",
              "    }\n",
              "\n",
              "    .dataframe tbody tr th {\n",
              "        vertical-align: top;\n",
              "    }\n",
              "\n",
              "    .dataframe thead th {\n",
              "        text-align: right;\n",
              "    }\n",
              "</style>\n",
              "<table border=\"1\" class=\"dataframe\">\n",
              "  <thead>\n",
              "    <tr style=\"text-align: right;\">\n",
              "      <th></th>\n",
              "      <th>season</th>\n",
              "      <th>holiday</th>\n",
              "      <th>workingday</th>\n",
              "      <th>weather</th>\n",
              "      <th>temp</th>\n",
              "      <th>atemp</th>\n",
              "      <th>humidity</th>\n",
              "      <th>windspeed</th>\n",
              "      <th>casual</th>\n",
              "      <th>registered</th>\n",
              "      <th>count</th>\n",
              "    </tr>\n",
              "    <tr>\n",
              "      <th>datetime</th>\n",
              "      <th></th>\n",
              "      <th></th>\n",
              "      <th></th>\n",
              "      <th></th>\n",
              "      <th></th>\n",
              "      <th></th>\n",
              "      <th></th>\n",
              "      <th></th>\n",
              "      <th></th>\n",
              "      <th></th>\n",
              "      <th></th>\n",
              "    </tr>\n",
              "  </thead>\n",
              "  <tbody>\n",
              "    <tr>\n",
              "      <th>2011-01-01 00:00:00</th>\n",
              "      <td>1</td>\n",
              "      <td>0</td>\n",
              "      <td>0</td>\n",
              "      <td>1</td>\n",
              "      <td>9.84</td>\n",
              "      <td>14.395</td>\n",
              "      <td>81</td>\n",
              "      <td>0.0</td>\n",
              "      <td>3</td>\n",
              "      <td>13</td>\n",
              "      <td>16</td>\n",
              "    </tr>\n",
              "    <tr>\n",
              "      <th>2011-01-01 01:00:00</th>\n",
              "      <td>1</td>\n",
              "      <td>0</td>\n",
              "      <td>0</td>\n",
              "      <td>1</td>\n",
              "      <td>9.02</td>\n",
              "      <td>13.635</td>\n",
              "      <td>80</td>\n",
              "      <td>0.0</td>\n",
              "      <td>8</td>\n",
              "      <td>32</td>\n",
              "      <td>40</td>\n",
              "    </tr>\n",
              "    <tr>\n",
              "      <th>2011-01-01 02:00:00</th>\n",
              "      <td>1</td>\n",
              "      <td>0</td>\n",
              "      <td>0</td>\n",
              "      <td>1</td>\n",
              "      <td>9.02</td>\n",
              "      <td>13.635</td>\n",
              "      <td>80</td>\n",
              "      <td>0.0</td>\n",
              "      <td>5</td>\n",
              "      <td>27</td>\n",
              "      <td>32</td>\n",
              "    </tr>\n",
              "    <tr>\n",
              "      <th>2011-01-01 03:00:00</th>\n",
              "      <td>1</td>\n",
              "      <td>0</td>\n",
              "      <td>0</td>\n",
              "      <td>1</td>\n",
              "      <td>9.84</td>\n",
              "      <td>14.395</td>\n",
              "      <td>75</td>\n",
              "      <td>0.0</td>\n",
              "      <td>3</td>\n",
              "      <td>10</td>\n",
              "      <td>13</td>\n",
              "    </tr>\n",
              "    <tr>\n",
              "      <th>2011-01-01 04:00:00</th>\n",
              "      <td>1</td>\n",
              "      <td>0</td>\n",
              "      <td>0</td>\n",
              "      <td>1</td>\n",
              "      <td>9.84</td>\n",
              "      <td>14.395</td>\n",
              "      <td>75</td>\n",
              "      <td>0.0</td>\n",
              "      <td>0</td>\n",
              "      <td>1</td>\n",
              "      <td>1</td>\n",
              "    </tr>\n",
              "  </tbody>\n",
              "</table>\n",
              "</div>"
            ],
            "text/plain": [
              "                     season  holiday  workingday  ...  casual  registered  count\n",
              "datetime                                          ...                           \n",
              "2011-01-01 00:00:00       1        0           0  ...       3          13     16\n",
              "2011-01-01 01:00:00       1        0           0  ...       8          32     40\n",
              "2011-01-01 02:00:00       1        0           0  ...       5          27     32\n",
              "2011-01-01 03:00:00       1        0           0  ...       3          10     13\n",
              "2011-01-01 04:00:00       1        0           0  ...       0           1      1\n",
              "\n",
              "[5 rows x 11 columns]"
            ]
          },
          "metadata": {},
          "execution_count": 15
        }
      ]
    },
    {
      "cell_type": "markdown",
      "metadata": {
        "id": "7TQaraXBPtWJ"
      },
      "source": [
        "## Regression Model\n",
        "### Feature engineering"
      ]
    },
    {
      "cell_type": "code",
      "metadata": {
        "id": "N493jkwnPoZs"
      },
      "source": [
        "raw_data['month'] = raw_data.index.map(lambda x : x.month)\n",
        "raw_data['hour'] = raw_data.index.map(lambda x : x.hour)\n",
        "raw_data['weekday'] = raw_data.index.map(lambda x : x.weekday() + 1)"
      ],
      "execution_count": 16,
      "outputs": []
    },
    {
      "cell_type": "code",
      "metadata": {
        "colab": {
          "base_uri": "https://localhost:8080/",
          "height": 238
        },
        "id": "ifPGKgxkP006",
        "outputId": "c39da2cf-2497-4044-ec37-357f4df980ae"
      },
      "source": [
        "raw_data.head()"
      ],
      "execution_count": 17,
      "outputs": [
        {
          "output_type": "execute_result",
          "data": {
            "text/html": [
              "<div>\n",
              "<style scoped>\n",
              "    .dataframe tbody tr th:only-of-type {\n",
              "        vertical-align: middle;\n",
              "    }\n",
              "\n",
              "    .dataframe tbody tr th {\n",
              "        vertical-align: top;\n",
              "    }\n",
              "\n",
              "    .dataframe thead th {\n",
              "        text-align: right;\n",
              "    }\n",
              "</style>\n",
              "<table border=\"1\" class=\"dataframe\">\n",
              "  <thead>\n",
              "    <tr style=\"text-align: right;\">\n",
              "      <th></th>\n",
              "      <th>season</th>\n",
              "      <th>holiday</th>\n",
              "      <th>workingday</th>\n",
              "      <th>weather</th>\n",
              "      <th>temp</th>\n",
              "      <th>atemp</th>\n",
              "      <th>humidity</th>\n",
              "      <th>windspeed</th>\n",
              "      <th>casual</th>\n",
              "      <th>registered</th>\n",
              "      <th>count</th>\n",
              "      <th>month</th>\n",
              "      <th>hour</th>\n",
              "      <th>weekday</th>\n",
              "    </tr>\n",
              "    <tr>\n",
              "      <th>datetime</th>\n",
              "      <th></th>\n",
              "      <th></th>\n",
              "      <th></th>\n",
              "      <th></th>\n",
              "      <th></th>\n",
              "      <th></th>\n",
              "      <th></th>\n",
              "      <th></th>\n",
              "      <th></th>\n",
              "      <th></th>\n",
              "      <th></th>\n",
              "      <th></th>\n",
              "      <th></th>\n",
              "      <th></th>\n",
              "    </tr>\n",
              "  </thead>\n",
              "  <tbody>\n",
              "    <tr>\n",
              "      <th>2011-01-01 00:00:00</th>\n",
              "      <td>1</td>\n",
              "      <td>0</td>\n",
              "      <td>0</td>\n",
              "      <td>1</td>\n",
              "      <td>9.84</td>\n",
              "      <td>14.395</td>\n",
              "      <td>81</td>\n",
              "      <td>0.0</td>\n",
              "      <td>3</td>\n",
              "      <td>13</td>\n",
              "      <td>16</td>\n",
              "      <td>1</td>\n",
              "      <td>0</td>\n",
              "      <td>6</td>\n",
              "    </tr>\n",
              "    <tr>\n",
              "      <th>2011-01-01 01:00:00</th>\n",
              "      <td>1</td>\n",
              "      <td>0</td>\n",
              "      <td>0</td>\n",
              "      <td>1</td>\n",
              "      <td>9.02</td>\n",
              "      <td>13.635</td>\n",
              "      <td>80</td>\n",
              "      <td>0.0</td>\n",
              "      <td>8</td>\n",
              "      <td>32</td>\n",
              "      <td>40</td>\n",
              "      <td>1</td>\n",
              "      <td>1</td>\n",
              "      <td>6</td>\n",
              "    </tr>\n",
              "    <tr>\n",
              "      <th>2011-01-01 02:00:00</th>\n",
              "      <td>1</td>\n",
              "      <td>0</td>\n",
              "      <td>0</td>\n",
              "      <td>1</td>\n",
              "      <td>9.02</td>\n",
              "      <td>13.635</td>\n",
              "      <td>80</td>\n",
              "      <td>0.0</td>\n",
              "      <td>5</td>\n",
              "      <td>27</td>\n",
              "      <td>32</td>\n",
              "      <td>1</td>\n",
              "      <td>2</td>\n",
              "      <td>6</td>\n",
              "    </tr>\n",
              "    <tr>\n",
              "      <th>2011-01-01 03:00:00</th>\n",
              "      <td>1</td>\n",
              "      <td>0</td>\n",
              "      <td>0</td>\n",
              "      <td>1</td>\n",
              "      <td>9.84</td>\n",
              "      <td>14.395</td>\n",
              "      <td>75</td>\n",
              "      <td>0.0</td>\n",
              "      <td>3</td>\n",
              "      <td>10</td>\n",
              "      <td>13</td>\n",
              "      <td>1</td>\n",
              "      <td>3</td>\n",
              "      <td>6</td>\n",
              "    </tr>\n",
              "    <tr>\n",
              "      <th>2011-01-01 04:00:00</th>\n",
              "      <td>1</td>\n",
              "      <td>0</td>\n",
              "      <td>0</td>\n",
              "      <td>1</td>\n",
              "      <td>9.84</td>\n",
              "      <td>14.395</td>\n",
              "      <td>75</td>\n",
              "      <td>0.0</td>\n",
              "      <td>0</td>\n",
              "      <td>1</td>\n",
              "      <td>1</td>\n",
              "      <td>1</td>\n",
              "      <td>4</td>\n",
              "      <td>6</td>\n",
              "    </tr>\n",
              "  </tbody>\n",
              "</table>\n",
              "</div>"
            ],
            "text/plain": [
              "                     season  holiday  workingday  ...  month  hour  weekday\n",
              "datetime                                          ...                      \n",
              "2011-01-01 00:00:00       1        0           0  ...      1     0        6\n",
              "2011-01-01 01:00:00       1        0           0  ...      1     1        6\n",
              "2011-01-01 02:00:00       1        0           0  ...      1     2        6\n",
              "2011-01-01 03:00:00       1        0           0  ...      1     3        6\n",
              "2011-01-01 04:00:00       1        0           0  ...      1     4        6\n",
              "\n",
              "[5 rows x 14 columns]"
            ]
          },
          "metadata": {},
          "execution_count": 17
        }
      ]
    },
    {
      "cell_type": "markdown",
      "metadata": {
        "id": "uTPF2a_8P4aF"
      },
      "source": [
        "### Model training"
      ]
    },
    {
      "cell_type": "code",
      "metadata": {
        "id": "kbpziSlGP2GQ"
      },
      "source": [
        "target = 'count'\n",
        "prediction = 'prediction'\n",
        "numerical_features = ['temp', 'atemp', 'humidity', 'windspeed', 'hour', 'weekday']\n",
        "categorical_features = ['season', 'holiday', 'workingday']"
      ],
      "execution_count": 18,
      "outputs": []
    },
    {
      "cell_type": "code",
      "metadata": {
        "id": "n1tNJLSEP6bu"
      },
      "source": [
        "# Reference data and current data\n",
        "reference = raw_data.loc['2011-01-01 00:00:00':'2011-01-28 23:00:00']\n",
        "current = raw_data.loc['2011-01-29 00:00:00':'2011-02-28 23:00:00']"
      ],
      "execution_count": 19,
      "outputs": []
    },
    {
      "cell_type": "code",
      "metadata": {
        "colab": {
          "base_uri": "https://localhost:8080/",
          "height": 238
        },
        "id": "M5BiopR1P76g",
        "outputId": "f1317aa5-f4bd-4625-c33a-ce183813315d"
      },
      "source": [
        "reference.head()"
      ],
      "execution_count": 20,
      "outputs": [
        {
          "output_type": "execute_result",
          "data": {
            "text/html": [
              "<div>\n",
              "<style scoped>\n",
              "    .dataframe tbody tr th:only-of-type {\n",
              "        vertical-align: middle;\n",
              "    }\n",
              "\n",
              "    .dataframe tbody tr th {\n",
              "        vertical-align: top;\n",
              "    }\n",
              "\n",
              "    .dataframe thead th {\n",
              "        text-align: right;\n",
              "    }\n",
              "</style>\n",
              "<table border=\"1\" class=\"dataframe\">\n",
              "  <thead>\n",
              "    <tr style=\"text-align: right;\">\n",
              "      <th></th>\n",
              "      <th>season</th>\n",
              "      <th>holiday</th>\n",
              "      <th>workingday</th>\n",
              "      <th>weather</th>\n",
              "      <th>temp</th>\n",
              "      <th>atemp</th>\n",
              "      <th>humidity</th>\n",
              "      <th>windspeed</th>\n",
              "      <th>casual</th>\n",
              "      <th>registered</th>\n",
              "      <th>count</th>\n",
              "      <th>month</th>\n",
              "      <th>hour</th>\n",
              "      <th>weekday</th>\n",
              "    </tr>\n",
              "    <tr>\n",
              "      <th>datetime</th>\n",
              "      <th></th>\n",
              "      <th></th>\n",
              "      <th></th>\n",
              "      <th></th>\n",
              "      <th></th>\n",
              "      <th></th>\n",
              "      <th></th>\n",
              "      <th></th>\n",
              "      <th></th>\n",
              "      <th></th>\n",
              "      <th></th>\n",
              "      <th></th>\n",
              "      <th></th>\n",
              "      <th></th>\n",
              "    </tr>\n",
              "  </thead>\n",
              "  <tbody>\n",
              "    <tr>\n",
              "      <th>2011-01-01 00:00:00</th>\n",
              "      <td>1</td>\n",
              "      <td>0</td>\n",
              "      <td>0</td>\n",
              "      <td>1</td>\n",
              "      <td>9.84</td>\n",
              "      <td>14.395</td>\n",
              "      <td>81</td>\n",
              "      <td>0.0</td>\n",
              "      <td>3</td>\n",
              "      <td>13</td>\n",
              "      <td>16</td>\n",
              "      <td>1</td>\n",
              "      <td>0</td>\n",
              "      <td>6</td>\n",
              "    </tr>\n",
              "    <tr>\n",
              "      <th>2011-01-01 01:00:00</th>\n",
              "      <td>1</td>\n",
              "      <td>0</td>\n",
              "      <td>0</td>\n",
              "      <td>1</td>\n",
              "      <td>9.02</td>\n",
              "      <td>13.635</td>\n",
              "      <td>80</td>\n",
              "      <td>0.0</td>\n",
              "      <td>8</td>\n",
              "      <td>32</td>\n",
              "      <td>40</td>\n",
              "      <td>1</td>\n",
              "      <td>1</td>\n",
              "      <td>6</td>\n",
              "    </tr>\n",
              "    <tr>\n",
              "      <th>2011-01-01 02:00:00</th>\n",
              "      <td>1</td>\n",
              "      <td>0</td>\n",
              "      <td>0</td>\n",
              "      <td>1</td>\n",
              "      <td>9.02</td>\n",
              "      <td>13.635</td>\n",
              "      <td>80</td>\n",
              "      <td>0.0</td>\n",
              "      <td>5</td>\n",
              "      <td>27</td>\n",
              "      <td>32</td>\n",
              "      <td>1</td>\n",
              "      <td>2</td>\n",
              "      <td>6</td>\n",
              "    </tr>\n",
              "    <tr>\n",
              "      <th>2011-01-01 03:00:00</th>\n",
              "      <td>1</td>\n",
              "      <td>0</td>\n",
              "      <td>0</td>\n",
              "      <td>1</td>\n",
              "      <td>9.84</td>\n",
              "      <td>14.395</td>\n",
              "      <td>75</td>\n",
              "      <td>0.0</td>\n",
              "      <td>3</td>\n",
              "      <td>10</td>\n",
              "      <td>13</td>\n",
              "      <td>1</td>\n",
              "      <td>3</td>\n",
              "      <td>6</td>\n",
              "    </tr>\n",
              "    <tr>\n",
              "      <th>2011-01-01 04:00:00</th>\n",
              "      <td>1</td>\n",
              "      <td>0</td>\n",
              "      <td>0</td>\n",
              "      <td>1</td>\n",
              "      <td>9.84</td>\n",
              "      <td>14.395</td>\n",
              "      <td>75</td>\n",
              "      <td>0.0</td>\n",
              "      <td>0</td>\n",
              "      <td>1</td>\n",
              "      <td>1</td>\n",
              "      <td>1</td>\n",
              "      <td>4</td>\n",
              "      <td>6</td>\n",
              "    </tr>\n",
              "  </tbody>\n",
              "</table>\n",
              "</div>"
            ],
            "text/plain": [
              "                     season  holiday  workingday  ...  month  hour  weekday\n",
              "datetime                                          ...                      \n",
              "2011-01-01 00:00:00       1        0           0  ...      1     0        6\n",
              "2011-01-01 01:00:00       1        0           0  ...      1     1        6\n",
              "2011-01-01 02:00:00       1        0           0  ...      1     2        6\n",
              "2011-01-01 03:00:00       1        0           0  ...      1     3        6\n",
              "2011-01-01 04:00:00       1        0           0  ...      1     4        6\n",
              "\n",
              "[5 rows x 14 columns]"
            ]
          },
          "metadata": {},
          "execution_count": 20
        }
      ]
    },
    {
      "cell_type": "code",
      "metadata": {
        "colab": {
          "base_uri": "https://localhost:8080/"
        },
        "id": "D1PIKQ5DP9V9",
        "outputId": "5ee9c711-d358-404b-b04d-d46766cd2014"
      },
      "source": [
        "regressor = ensemble.RandomForestRegressor(random_state = 0, n_estimators = 50)\n",
        "regressor.fit(reference[numerical_features + categorical_features], reference[target])"
      ],
      "execution_count": 21,
      "outputs": [
        {
          "output_type": "execute_result",
          "data": {
            "text/plain": [
              "RandomForestRegressor(n_estimators=50, random_state=0)"
            ]
          },
          "metadata": {},
          "execution_count": 21
        }
      ]
    },
    {
      "cell_type": "code",
      "metadata": {
        "id": "DAY38d4LP_s2"
      },
      "source": [
        "# Predictions for reference and current dataset\n",
        "ref_prediction = regressor.predict(reference[numerical_features + categorical_features])\n",
        "current_prediction = regressor.predict(current[numerical_features + categorical_features])"
      ],
      "execution_count": 22,
      "outputs": []
    },
    {
      "cell_type": "code",
      "metadata": {
        "id": "hlfXQCUGQK-4"
      },
      "source": [
        "reference['prediction'] = ref_prediction\n",
        "current['prediction'] = current_prediction"
      ],
      "execution_count": 23,
      "outputs": []
    },
    {
      "cell_type": "markdown",
      "metadata": {
        "id": "ZZy53OLUQPFH"
      },
      "source": [
        "### Model Perfomance"
      ]
    },
    {
      "cell_type": "code",
      "metadata": {
        "id": "Qrm6Wsy8QNZA"
      },
      "source": [
        "column_mapping = {}\n",
        "\n",
        "column_mapping['target'] = target\n",
        "column_mapping['prediction'] = prediction\n",
        "column_mapping['numerical_features'] = numerical_features\n",
        "column_mapping['categorical_features'] = categorical_features"
      ],
      "execution_count": 24,
      "outputs": []
    },
    {
      "cell_type": "code",
      "metadata": {
        "id": "JcmHRNbPQS-v"
      },
      "source": [
        "regression_perfomance_dashboard = Dashboard(tabs=[RegressionPerformanceTab])\n",
        "regression_perfomance_dashboard.calculate(reference, None, column_mapping=column_mapping)"
      ],
      "execution_count": 25,
      "outputs": []
    },
    {
      "cell_type": "code",
      "metadata": {
        "id": "iAT6TCpFQVyh"
      },
      "source": [
        "#regression_perfomance_dashboard.show()"
      ],
      "execution_count": 26,
      "outputs": []
    },
    {
      "cell_type": "code",
      "metadata": {
        "id": "fifJo0DPQXMU"
      },
      "source": [
        "regression_perfomance_dashboard.save('reports/regression_performance_at_training.html')"
      ],
      "execution_count": 27,
      "outputs": []
    },
    {
      "cell_type": "markdown",
      "metadata": {
        "id": "Mz0Z1eFrQdYM"
      },
      "source": [
        "### Drifts in slices\n",
        "\n",
        "- Instead of taking all the current data, compare with slices e.g., one week"
      ]
    },
    {
      "cell_type": "markdown",
      "metadata": {
        "id": "y3Fiy5bb0Bzz"
      },
      "source": [
        "### Week 1"
      ]
    },
    {
      "cell_type": "code",
      "metadata": {
        "id": "vgMoNZxhQZn1"
      },
      "source": [
        "regression_perfomance_dashboard.calculate(\n",
        "    reference,\n",
        "    current.loc['2011-01-29 00:00:00':'2011-02-07 23:00:00'],\n",
        "    column_mapping=column_mapping\n",
        "    )"
      ],
      "execution_count": 28,
      "outputs": []
    },
    {
      "cell_type": "code",
      "metadata": {
        "id": "8Obo81X_QhvT"
      },
      "source": [
        "#regression_perfomance_dashboard.show()"
      ],
      "execution_count": 29,
      "outputs": []
    },
    {
      "cell_type": "code",
      "metadata": {
        "id": "d4LF2V_CQmMM"
      },
      "source": [
        "regression_perfomance_dashboard.save('reports/regression_performance_after_week1.html')"
      ],
      "execution_count": 30,
      "outputs": []
    },
    {
      "cell_type": "markdown",
      "metadata": {
        "id": "VBhcV_NTdni9"
      },
      "source": [
        "### **Now, let's look at another Dashboard**\n",
        "\n",
        "### Instead of the model performance let's explores the changes in the numerical target function (prediction) "
      ]
    },
    {
      "cell_type": "code",
      "metadata": {
        "id": "yRR3ndH5Q6JR"
      },
      "source": [
        "target_drift_dashboard = Dashboard(tabs=[NumTargetDriftTab])\n",
        "target_drift_dashboard.calculate(\n",
        "    reference,\n",
        "    current.loc['2011-01-29 00:00:00':'2011-02-07 23:00:00'],\n",
        "    column_mapping=column_mapping\n",
        "    )"
      ],
      "execution_count": 31,
      "outputs": []
    },
    {
      "cell_type": "code",
      "metadata": {
        "id": "p5d801Q_Q6SK"
      },
      "source": [
        "#target_drift_dashboard.show()"
      ],
      "execution_count": 32,
      "outputs": []
    },
    {
      "cell_type": "code",
      "metadata": {
        "id": "HLYSy2q-RJ87"
      },
      "source": [
        "target_drift_dashboard.save('reports/target_drift_after_week1.html')"
      ],
      "execution_count": 33,
      "outputs": []
    },
    {
      "cell_type": "markdown",
      "metadata": {
        "id": "RR5imKBRQuxP"
      },
      "source": [
        "### Week 2"
      ]
    },
    {
      "cell_type": "code",
      "metadata": {
        "id": "xdCe_pUdQsIQ"
      },
      "source": [
        "regression_perfomance_dashboard.calculate(\n",
        "    reference,\n",
        "    current.loc['2011-02-07 00:00:00':'2011-02-14 23:00:00'],\n",
        "    column_mapping=column_mapping\n",
        "    )"
      ],
      "execution_count": 34,
      "outputs": []
    },
    {
      "cell_type": "code",
      "metadata": {
        "id": "9tTwr-tSQuA7"
      },
      "source": [
        "#regression_perfomance_dashboard.show()"
      ],
      "execution_count": 35,
      "outputs": []
    },
    {
      "cell_type": "code",
      "metadata": {
        "id": "DSLp_D_SRdsl"
      },
      "source": [
        "regression_perfomance_dashboard.save('reports/regression_performance_after_week2.html')"
      ],
      "execution_count": 36,
      "outputs": []
    },
    {
      "cell_type": "code",
      "metadata": {
        "id": "OC9WR96XRgRP"
      },
      "source": [
        "target_drift_dashboard.calculate(\n",
        "    reference,\n",
        "    current.loc['2011-02-07 00:00:00':'2011-02-14 23:00:00'],\n",
        "    column_mapping=column_mapping\n",
        "    )"
      ],
      "execution_count": 37,
      "outputs": []
    },
    {
      "cell_type": "code",
      "metadata": {
        "id": "6aUltdo2Rj16"
      },
      "source": [
        "#target_drift_dashboard.show()"
      ],
      "execution_count": 38,
      "outputs": []
    },
    {
      "cell_type": "code",
      "metadata": {
        "id": "kcwgewbMRmOU"
      },
      "source": [
        "target_drift_dashboard.save('reports/target_drift_after_week2.html')"
      ],
      "execution_count": 39,
      "outputs": []
    },
    {
      "cell_type": "markdown",
      "metadata": {
        "id": "e_5X6M6ARrBZ"
      },
      "source": [
        "### Week 3"
      ]
    },
    {
      "cell_type": "code",
      "metadata": {
        "id": "Wa3i4qWIRonI"
      },
      "source": [
        "regression_perfomance_dashboard.calculate(\n",
        "    reference,\n",
        "    current.loc['2011-02-15 00:00:00':'2011-02-21 23:00:00'],\n",
        "    column_mapping=column_mapping\n",
        "    )"
      ],
      "execution_count": 40,
      "outputs": []
    },
    {
      "cell_type": "code",
      "metadata": {
        "id": "iTQ-9ewsRveg"
      },
      "source": [
        "#regression_perfomance_dashboard.show()"
      ],
      "execution_count": 41,
      "outputs": []
    },
    {
      "cell_type": "code",
      "metadata": {
        "id": "J3v46K7KR1uW"
      },
      "source": [
        "regression_perfomance_dashboard.save('reports/regression_performance_after_week3.html')"
      ],
      "execution_count": 42,
      "outputs": []
    },
    {
      "cell_type": "code",
      "metadata": {
        "id": "VBdOJ5HcR12B"
      },
      "source": [
        "target_drift_dashboard.calculate(\n",
        "    reference,\n",
        "    current.loc['2011-02-15 00:00:00':'2011-02-21 23:00:00'],\n",
        "    column_mapping=column_mapping\n",
        "    )\n"
      ],
      "execution_count": 43,
      "outputs": []
    },
    {
      "cell_type": "code",
      "metadata": {
        "id": "EnAh9c1zR9mX"
      },
      "source": [
        "#target_drift_dashboard.show()"
      ],
      "execution_count": 44,
      "outputs": []
    },
    {
      "cell_type": "code",
      "metadata": {
        "id": "nRl8V4SoR_NH"
      },
      "source": [
        "target_drift_dashboard.save('reports/target_drift_after_week3.html')"
      ],
      "execution_count": 45,
      "outputs": []
    },
    {
      "cell_type": "markdown",
      "metadata": {
        "id": "7phpO2LhSFAm"
      },
      "source": [
        "## Data Drift"
      ]
    },
    {
      "cell_type": "code",
      "metadata": {
        "id": "jKNdOV-mSBuA"
      },
      "source": [
        "column_mapping = {}\n",
        "column_mapping['numerical_features'] = numerical_features"
      ],
      "execution_count": 46,
      "outputs": []
    },
    {
      "cell_type": "code",
      "metadata": {
        "id": "AzjSaH8lSIOH"
      },
      "source": [
        "data_drift_dashboard = Dashboard(tabs=[DataDriftTab])\n",
        "\n",
        "data_drift_dashboard.calculate(\n",
        "    reference,\n",
        "    current.loc['2011-01-29 00:00:00':'2011-02-07 23:00:00'],\n",
        "    column_mapping=column_mapping\n",
        "    )"
      ],
      "execution_count": 47,
      "outputs": []
    },
    {
      "cell_type": "code",
      "metadata": {
        "id": "55EoQuygSM_g"
      },
      "source": [
        "#data_drift_dashboard.show()"
      ],
      "execution_count": 48,
      "outputs": []
    },
    {
      "cell_type": "code",
      "metadata": {
        "id": "EkUBla1ESTio"
      },
      "source": [
        "data_drift_dashboard.save(\"reports/data_drift_dashboard_after_week1.html\")"
      ],
      "execution_count": 49,
      "outputs": []
    },
    {
      "cell_type": "markdown",
      "metadata": {
        "id": "N4S6v5zwoCYf"
      },
      "source": [
        "# **Profiles** are best for integration into prediction pipelines or with external visualization tools."
      ]
    },
    {
      "cell_type": "markdown",
      "metadata": {
        "id": "zJlwsX_NNohq"
      },
      "source": [
        "# Regression Model Profile"
      ]
    },
    {
      "cell_type": "code",
      "metadata": {
        "id": "kK_V9WCbpmNC"
      },
      "source": [
        "# Same as we did in the beginning of our session\n",
        "\n",
        "# Load dataset\n",
        "raw_data = pd.read_csv(\n",
        "    'Bike-Sharing-Dataset/day.csv',\n",
        "    header = 0,\n",
        "    sep = ',',\n",
        "    parse_dates=['dteday']\n",
        "    )\n",
        "# Take Reference dataset and Production Dataset\n",
        "ref_data = raw_data[:120]\n",
        "prod_data = raw_data[120:150]\n",
        "# Required variables to train Random Forest Model\n",
        "target = 'cnt'\n",
        "\n",
        "# \"Spliting\" the features in two lists is helpful for the Dashboard\n",
        "# For the Random Forest Model this is not relevant\n",
        "numerical_features = ['mnth', 'temp', 'atemp', 'hum', 'windspeed']\n",
        "categorical_features = ['season', 'holiday', 'weekday', 'workingday', 'weathersit',]\n",
        "\n",
        "# Features to be used by the random forest model\n",
        "features = numerical_features + categorical_features\n",
        "# Build and train the Random Forest Model\n",
        "# Use the reference data\n",
        "model = RandomForestRegressor(random_state = 0)\n",
        "\n",
        "model.fit(\n",
        "    ref_data[features],\n",
        "    ref_data[target]\n",
        "    )\n",
        "# Predict for reference and production data\n",
        "ref_data['prediction']  = model.predict(ref_data[features])\n",
        "prod_data['prediction'] = model.predict(prod_data[features])\n",
        "\n",
        "\n",
        "\n",
        "column_mapping = {}\n",
        "\n",
        "column_mapping['target'] = target\n",
        "column_mapping['prediction'] = 'prediction'\n",
        "column_mapping['datetime'] = 'dteday'\n",
        "\n",
        "column_mapping['numerical_features'] = numerical_features\n",
        "column_mapping['categorical_features'] = categorical_features"
      ],
      "execution_count": 50,
      "outputs": []
    },
    {
      "cell_type": "code",
      "metadata": {
        "id": "XsuP-JtUFW7-"
      },
      "source": [
        "bike_regression_performance_profile = Profile(sections=[RegressionPerformanceProfileSection])"
      ],
      "execution_count": 51,
      "outputs": []
    },
    {
      "cell_type": "code",
      "metadata": {
        "id": "xUuMhzoBIYt4"
      },
      "source": [
        "bike_regression_performance_profile.calculate(ref_data, prod_data, column_mapping=column_mapping)"
      ],
      "execution_count": 52,
      "outputs": []
    },
    {
      "cell_type": "code",
      "metadata": {
        "id": "kIG9qxJGIaO_"
      },
      "source": [
        "regression_profile = bike_regression_performance_profile.json()"
      ],
      "execution_count": 53,
      "outputs": []
    },
    {
      "cell_type": "code",
      "metadata": {
        "colab": {
          "base_uri": "https://localhost:8080/",
          "height": 128
        },
        "id": "wrIbgcivNuMf",
        "outputId": "0a6fdc81-b970-457a-8728-b60573d7f05d"
      },
      "source": [
        "regression_profile"
      ],
      "execution_count": 54,
      "outputs": [
        {
          "output_type": "execute_result",
          "data": {
            "application/vnd.google.colaboratory.intrinsic+json": {
              "type": "string"
            },
            "text/plain": [
              "'{\"regression_performance\": {\"name\": \"regression_performance\", \"datetime\": \"2021-11-16 17:27:48.588139\", \"data\": {\"utility_columns\": {\"date\": \"dteday\", \"id\": null, \"target\": \"cnt\", \"prediction\": \"prediction\", \"drift_conf_level\": 0.95, \"drift_features_share\": 0.5, \"nbinsx\": null, \"xbins\": null}, \"cat_feature_names\": [\"season\", \"holiday\", \"weekday\", \"workingday\", \"weathersit\"], \"num_feature_names\": [\"mnth\", \"temp\", \"atemp\", \"hum\", \"windspeed\"], \"target_names\": null, \"metrics\": {\"reference\": {\"mean_error\": 8.929166666666674, \"mean_abs_error\": 125.09516666666663, \"mean_abs_perc_error\": 8.495802832467792, \"error_std\": 186.45387709836987, \"abs_error_std\": 138.0765912530898, \"abs_perc_error_std\": 16.117011043699662, \"error_normality\": {\"order_statistic_medians_x\": [-2.526542275665766, -2.197894402213753, -2.0086641993623844, -1.8721280960359694, -1.7635663945500484, -1.672523510822877, -1.5935482122864373, -1.5234210952712135, -1.4600748144725424, -1.40209915455854, -1.3484871031580363, -1.2984932585000837, -1.251549633000822, -1.207212953035064, -1.1651302612971595, -1.1250156674123941, -1.0866341619542705, -1.0497900582357471, -1.0143185548672002, -0.9800794563588773, -0.9469524193449186, -0.9148332986406379, -0.8836313001354061, -0.8532667349246381, -0.8236692278564083, -0.7947762739594255, -0.766532064328282, -0.7388865229671778, -0.7117945104246709, -0.6852151604986348, -0.65911132399993, -0.6334490993177039, -0.6081974338700139, -0.5833277838301872, -0.5588138220614421, -0.5346311861633473, -0.5107572600742242, -0.48717098388668373, -0.46385268749544184, -0.44078394446443697, -0.41794744311700893, -0.3953268723511547, -0.37290682008659254, -0.35067268258080264, -0.3286105831222719, -0.3067072988325197, -0.28495019449324954, -0.2633271624683987, -0.24182656791865179, -0.22043719861274697, -0.199148218729264, -0.17794912611750677, -0.15682971254895323, -0.13578002654344368, -0.11479033839840412, -0.09385110708617377, -0.07295294871499028, -0.05208660627416055, -0.031242920404108164, -0.010412800947822697, 0.010412800947822697, 0.031242920404108025, 0.05208660627416069, 0.07295294871499028, 0.09385110708617404, 0.11479033839840426, 0.13578002654344382, 0.15682971254895323, 0.17794912611750704, 0.19914821872926414, 0.2204371986127471, 0.24182656791865179, 0.263327162468399, 0.2849501944932498, 0.3067072988325198, 0.32861058312227204, 0.35067268258080264, 0.3729068200865928, 0.3953268723511549, 0.41794744311700904, 0.44078394446443697, 0.4638526874954422, 0.4871709838866839, 0.5107572600742244, 0.5346311861633473, 0.5588138220614425, 0.5833277838301875, 0.608197433870014, 0.6334490993177041, 0.6591113239999304, 0.6852151604986352, 0.7117945104246713, 0.7388865229671779, 0.7665320643282824, 0.794776273959426, 0.8236692278564085, 0.8532667349246382, 0.8836313001354067, 0.9148332986406383, 0.9469524193449189, 0.9800794563588773, 1.0143185548672002, 1.0497900582357471, 1.086634161954271, 1.1250156674123941, 1.1651302612971595, 1.2072129530350642, 1.251549633000822, 1.2984932585000841, 1.3484871031580363, 1.4020991545585408, 1.460074814472543, 1.523421095271214, 1.593548212286438, 1.6725235108228782, 1.7635663945500497, 1.872128096035971, 2.0086641993623857, 2.197894402213757, 2.526542275665766], \"order_statistic_medians_y\": [-592.9099999999999, -393.53999999999996, -310.0999999999999, -304.17999999999984, -293.52, -265.1500000000001, -264.48, -263.47, -260.6300000000001, -221.57000000000016, -215.21000000000004, -183.90999999999985, -183.18000000000006, -181.48000000000002, -178.40999999999985, -171.98000000000002, -153.36000000000013, -148.30999999999995, -139.77999999999997, -135.05000000000018, -134.2800000000002, -133.73999999999978, -128.54999999999995, -118.32999999999993, -116.76999999999998, -111.0, -107.18000000000006, -96.59999999999991, -93.5300000000002, -90.00999999999999, -80.23000000000002, -77.8599999999999, -75.76999999999998, -64.71000000000004, -63.73000000000002, -63.19999999999982, -60.680000000000064, -60.27999999999997, -49.73000000000002, -37.929999999999836, -36.450000000000045, -35.59999999999991, -34.75, -29.1099999999999, -28.579999999999927, -26.319999999999936, -25.40000000000009, -24.25, -22.99000000000001, -18.75999999999999, -13.320000000000164, -12.029999999999973, -11.670000000000073, -6.4099999999998545, -6.380000000000109, -5.8599999999999, -5.230000000000018, -2.519999999999982, 0.0, 2.2899999999999636, 4.079999999999927, 8.169999999999959, 9.940000000000055, 12.049999999999955, 13.220000000000027, 17.410000000000082, 19.75, 22.170000000000073, 23.34999999999991, 23.6400000000001, 24.5, 25.86999999999989, 31.75999999999999, 32.49000000000001, 33.41000000000008, 34.73000000000002, 46.559999999999945, 46.59999999999991, 47.01999999999998, 47.319999999999936, 50.309999999999945, 52.02999999999997, 52.48000000000002, 53.36999999999989, 58.41000000000008, 59.32999999999993, 63.700000000000045, 64.04999999999995, 64.52999999999997, 72.57999999999993, 73.57000000000016, 77.04999999999995, 89.13000000000011, 92.65999999999985, 93.21000000000004, 96.80999999999995, 96.92000000000007, 107.96000000000004, 108.0, 113.17000000000007, 117.0, 118.90999999999985, 126.59000000000015, 128.25, 176.69999999999982, 180.28999999999996, 181.33999999999992, 210.04999999999995, 235.59000000000015, 235.96000000000004, 240.77999999999997, 252.3800000000001, 271.51, 292.64, 293.1700000000001, 472.1500000000001, 515.9000000000001, 536.5700000000002, 683.5, 706.5799999999999], \"slope\": 180.37980503320216, \"intercept\": 8.929166666666637, \"r\": 0.9547792630759554}, \"underperformance\": {\"majority\": {\"mean_error\": 0.21324074074073837, \"std_error\": 117.03819367676125}, \"underestimation\": {\"mean_error\": -359.8999999999999, \"std_error\": 121.97863337486606}, \"overestimation\": {\"mean_error\": 534.6450000000001, \"std_error\": 151.18884651322657}}}, \"current\": {\"mean_error\": -763.2493333333334, \"mean_abs_error\": 796.1233333333334, \"mean_abs_perc_error\": 17.876834305765765, \"error_std\": 445.03012391594757, \"abs_error_std\": 380.81663671943073, \"abs_perc_error_std\": 7.5208691319575465, \"error_normality\": {\"order_statistic_medians_x\": [-1.9983376793275958, -1.5945255337722446, -1.351036683971554, -1.1686392999985924, -1.018554967082019, -0.8884856002610938, -0.7719485449466916, -0.6650629838276675, -0.5652914921546426, -0.4708598518787342, -0.380457113851787, -0.2930663577816485, -0.20786197991189398, -0.12414301334911515, -0.04128668572275918, 0.04128668572275918, 0.12414301334911529, 0.20786197991189398, 0.2930663577816488, 0.3804571138517872, 0.4708598518787343, 0.5652914921546429, 0.6650629838276678, 0.7719485449466921, 0.8884856002610938, 1.0185549670820198, 1.1686392999985924, 1.3510366839715544, 1.594525533772246, 1.9983376793275958], \"order_statistic_medians_y\": [-1661.3900000000003, -1492.3899999999999, -1476.75, -1280.29, -1128.1399999999999, -1117.2800000000002, -1107.2399999999998, -1088.19, -1084.87, -1042.71, -884.1199999999999, -786.56, -746.3600000000001, -735.45, -723.6799999999998, -709.8600000000001, -696.4299999999998, -681.9899999999998, -667.6499999999996, -642.4200000000001, -559.8500000000004, -540.0300000000002, -491.0300000000002, -482.03999999999996, -472.8499999999999, -435.8599999999997, -263.02, -223.13999999999987, -169.0, 493.1100000000001], \"slope\": 452.03912603453574, \"intercept\": -763.2493333333334, \"r\": 0.9773418210720245}, \"underperformance\": {\"majority\": {\"mean_error\": -771.8388461538464, \"std_error\": 314.4334866432253}, \"underestimation\": {\"mean_error\": -1576.89, \"std_error\": 119.50104602052686}, \"overestimation\": {\"mean_error\": 162.05500000000006, \"std_error\": 468.18247089142506}}}, \"error_bias\": {\"mnth\": {\"feature_type\": \"num\", \"ref_majority\": 2.5, \"ref_under\": 4.0, \"ref_over\": 3.5, \"ref_range\": 16.666666666666668, \"current_majority\": 5.0, \"current_under\": 5.0, \"current_over\": 5.0, \"current_range\": 0.0}, \"temp\": {\"feature_type\": \"num\", \"ref_majority\": 0.3204778866666667, \"ref_under\": 0.4861111666666667, \"ref_over\": 0.4574631666666666, \"ref_range\": 5.00369758020712, \"current_majority\": 0.5706389333333332, \"current_under\": 0.5687500000000001, \"current_over\": 0.6270830000000001, \"current_range\": 18.276696139313074}, \"atemp\": {\"feature_type\": \"num\", \"ref_majority\": 0.3174187058333334, \"ref_under\": 0.47127099999999994, \"ref_over\": 0.44665333333333335, \"ref_range\": 4.780005076890542, \"current_majority\": 0.5449946333333334, \"current_under\": 0.547669, \"current_over\": 0.5858605, \"current_range\": 14.333888801315124}, \"hum\": {\"feature_type\": \"num\", \"ref_majority\": 0.5958201250000003, \"ref_under\": 0.642986, \"ref_over\": 0.5635296666666667, \"ref_range\": 8.379162839485463, \"current_majority\": 0.7159166333333332, \"current_under\": 0.6870835, \"current_over\": 0.80375, \"current_range\": 24.390226055906663}, \"windspeed\": {\"feature_type\": \"num\", \"ref_majority\": 0.2249085091666666, \"ref_under\": 0.2181848333333333, \"ref_over\": 0.32909816666666664, \"ref_range\": 24.004372931025987, \"current_majority\": 0.18360581666666664, \"current_under\": 0.1551585, \"current_over\": 0.1330875, \"current_range\": 8.234541347127836}, \"season\": {\"feature_type\": \"cat\", \"ref_majority\": 1.0, \"ref_under\": 2.0, \"ref_over\": 2.0, \"ref_range\": 1.0, \"current_majority\": 2.0, \"current_under\": 2.0, \"current_over\": 2.0, \"current_range\": 0.0}, \"holiday\": {\"feature_type\": \"cat\", \"ref_majority\": 0.0, \"ref_under\": 0.0, \"ref_over\": 0.0, \"ref_range\": 0.0, \"current_majority\": 0.0, \"current_under\": 0.0, \"current_over\": 1.0, \"current_range\": 1.0}, \"weekday\": {\"feature_type\": \"cat\", \"ref_majority\": 6.0, \"ref_under\": 6.0, \"ref_over\": 6.0, \"ref_range\": 0.0, \"current_majority\": 1.0, \"current_under\": 6.0, \"current_over\": 6.0, \"current_range\": 1.0}, \"workingday\": {\"feature_type\": \"cat\", \"ref_majority\": 1.0, \"ref_under\": 0.0, \"ref_over\": 1.0, \"ref_range\": 1.0, \"current_majority\": 1.0, \"current_under\": 1.0, \"current_over\": 0.0, \"current_range\": 1.0}, \"weathersit\": {\"feature_type\": \"cat\", \"ref_majority\": 1.0, \"ref_under\": 1.0, \"ref_over\": 3.0, \"ref_range\": 1.0, \"current_majority\": 1.0, \"current_under\": 1.0, \"current_over\": 2.0, \"current_range\": 1.0}}}}}, \"timestamp\": \"2021-11-16 17:27:48.588160\"}'"
            ]
          },
          "metadata": {},
          "execution_count": 54
        }
      ]
    },
    {
      "cell_type": "markdown",
      "metadata": {
        "id": "X_GQsXpRyIW3"
      },
      "source": [
        "<img src=\"https://drive.google.com/uc?export=view&id=11tmHnX541zcLehbxThu8bgSxths9YoCt\">"
      ]
    }
  ]
}